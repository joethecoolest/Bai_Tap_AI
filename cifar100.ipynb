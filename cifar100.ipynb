{
  "nbformat": 4,
  "nbformat_minor": 0,
  "metadata": {
    "colab": {
      "name": "cifar100.ipynb",
      "provenance": [],
      "include_colab_link": true
    },
    "kernelspec": {
      "name": "python3",
      "display_name": "Python 3"
    },
    "language_info": {
      "name": "python"
    }
  },
  "cells": [
    {
      "cell_type": "markdown",
      "metadata": {
        "id": "view-in-github",
        "colab_type": "text"
      },
      "source": [
        "<a href=\"https://colab.research.google.com/github/joethecoolest/Bai_Tap_AI/blob/main/cifar100.ipynb\" target=\"_parent\"><img src=\"https://colab.research.google.com/assets/colab-badge.svg\" alt=\"Open In Colab\"/></a>"
      ]
    },
    {
      "cell_type": "code",
      "execution_count": 1,
      "metadata": {
        "id": "nnnIa3o-oZqw"
      },
      "outputs": [],
      "source": [
        "#import thư viện\n",
        "import numpy as np #thư viện xử lý ma trận\n",
        "from keras.utils import np_utils # thư viện xử lý chuyển class\n",
        "from keras.datasets import cifar100 # gọi tập dataset động vật, máy bay \n",
        "from keras.models import Sequential # hàm chạy mô hình\n",
        "from keras.layers import Dense, Dropout # tạo mạng nơ ron\n",
        "from tensorflow.keras.optimizers import RMSprop \n",
        "import matplotlib.pyplot as plt  # thư viện dùng để vẽ\n",
        "from keras.backend import dropout"
      ]
    },
    {
      "cell_type": "code",
      "source": [
        "# chia tập dữ liệu thành 2 bộ train và test\n",
        "(x_train, y_train),(x_test,y_test) = cifar100.load_data()"
      ],
      "metadata": {
        "colab": {
          "base_uri": "https://localhost:8080/"
        },
        "id": "c59tGph-oef7",
        "outputId": "999de07f-c465-4d42-a0e8-c2efc6483e13"
      },
      "execution_count": 2,
      "outputs": [
        {
          "output_type": "stream",
          "name": "stdout",
          "text": [
            "Downloading data from https://www.cs.toronto.edu/~kriz/cifar-100-python.tar.gz\n",
            "169009152/169001437 [==============================] - 4s 0us/step\n",
            "169017344/169001437 [==============================] - 4s 0us/step\n"
          ]
        }
      ]
    },
    {
      "cell_type": "code",
      "source": [
        "# xem kích thược của tập dữ liệu\n",
        "print('Kích thước x_train: ', x_train.shape)\n",
        "print('Kích thước y_train: ', y_train.shape)\n",
        "print('Kích thước x_test: ', x_test.shape)\n",
        "print('Kích thước y_test: ', y_test.shape)"
      ],
      "metadata": {
        "colab": {
          "base_uri": "https://localhost:8080/"
        },
        "id": "ehVFkee4ohFu",
        "outputId": "f84fa844-655d-432e-df9a-09899bda5a25"
      },
      "execution_count": 3,
      "outputs": [
        {
          "output_type": "stream",
          "name": "stdout",
          "text": [
            "Kích thước x_train:  (50000, 32, 32, 3)\n",
            "Kích thước y_train:  (50000, 1)\n",
            "Kích thước x_test:  (10000, 32, 32, 3)\n",
            "Kích thước y_test:  (10000, 1)\n"
          ]
        }
      ]
    },
    {
      "cell_type": "code",
      "source": [
        "#chuyển chiều của x từ 3 chiều về 2 chiều VÌ cifar10 ở đầu vào có 4 chiều để chuyển về\n",
        "# 2 chiều bằng cách 32*32*3=3072\n",
        "x_train = x_train.reshape(50000,3072)\n",
        "x_test = x_test.reshape(10000,3072)\n",
        "# ép kiểu\n",
        "x_train = x_train.astype('float32')\n",
        "x_test = x_test.astype('float32')\n",
        "#chuẩn hóa dữ liệu\n",
        "x_train /=255\n",
        "x_test /=255\n",
        "#chuyển y từ 1 class thành 10 class\n",
        "y_train = np_utils.to_categorical(y_train,100)\n",
        "y_test = np_utils.to_categorical(y_test,100)"
      ],
      "metadata": {
        "id": "yRn7kB6bokf0"
      },
      "execution_count": 4,
      "outputs": []
    },
    {
      "cell_type": "code",
      "source": [
        "#tạo mạng nơ-ron\n",
        "model = Sequential()\n",
        "model.add(Dense(512,activation='relu',input_shape=(3072,)))\n",
        "model.add(Dropout(0.2))\n",
        "model.add(Dense(1000,activation='relu'))\n",
        "model.add(Dropout(0.2))\n",
        "model.add(Dense(1000,activation='relu'))\n",
        "model.add(Dropout(0.2))\n",
        "model.add(Dense(512,activation='relu'))\n",
        "model.add(Dropout(0.2))\n",
        "model.add(Dense(100,activation='softmax'))\n",
        "model.summary()"
      ],
      "metadata": {
        "colab": {
          "base_uri": "https://localhost:8080/"
        },
        "id": "s4-JdzHSomm3",
        "outputId": "84b07a54-ea44-4773-ea0a-262a81184469"
      },
      "execution_count": 5,
      "outputs": [
        {
          "output_type": "stream",
          "name": "stdout",
          "text": [
            "Model: \"sequential\"\n",
            "_________________________________________________________________\n",
            " Layer (type)                Output Shape              Param #   \n",
            "=================================================================\n",
            " dense (Dense)               (None, 512)               1573376   \n",
            "                                                                 \n",
            " dropout (Dropout)           (None, 512)               0         \n",
            "                                                                 \n",
            " dense_1 (Dense)             (None, 1000)              513000    \n",
            "                                                                 \n",
            " dropout_1 (Dropout)         (None, 1000)              0         \n",
            "                                                                 \n",
            " dense_2 (Dense)             (None, 1000)              1001000   \n",
            "                                                                 \n",
            " dropout_2 (Dropout)         (None, 1000)              0         \n",
            "                                                                 \n",
            " dense_3 (Dense)             (None, 512)               512512    \n",
            "                                                                 \n",
            " dropout_3 (Dropout)         (None, 512)               0         \n",
            "                                                                 \n",
            " dense_4 (Dense)             (None, 100)               51300     \n",
            "                                                                 \n",
            "=================================================================\n",
            "Total params: 3,651,188\n",
            "Trainable params: 3,651,188\n",
            "Non-trainable params: 0\n",
            "_________________________________________________________________\n"
          ]
        }
      ]
    },
    {
      "cell_type": "code",
      "source": [
        "#chạy model với số lần học là 500 và độ kiên nhẫn là 100\n",
        "model.compile(loss='categorical_crossentropy',optimizer=RMSprop(), metrics=['accuracy'])\n",
        "model.compile(loss='categorical_crossentropy',optimizer=RMSprop(), metrics=['accuracy'])\n",
        "from keras.callbacks import EarlyStopping\n",
        "history = model.fit(x_train,y_train,batch_size=128,epochs=500,verbose=1,\n",
        "                    validation_split=0.2,callbacks=[EarlyStopping(monitor='val_loss',patience=100)])"
      ],
      "metadata": {
        "colab": {
          "base_uri": "https://localhost:8080/"
        },
        "id": "lgvTrBQfovqK",
        "outputId": "53105c11-1d1c-4cfa-af0b-f26ad731ca17"
      },
      "execution_count": null,
      "outputs": [
        {
          "output_type": "stream",
          "name": "stdout",
          "text": [
            "313/313 [==============================] - 25s 81ms/step - loss: 3.5348 - accuracy: 0.1704 - val_loss: 3.5031 - val_accuracy: 0.1777\n",
            "Epoch 98/500\n",
            "313/313 [==============================] - 25s 80ms/step - loss: 3.5312 - accuracy: 0.1722 - val_loss: 3.5479 - val_accuracy: 0.1737\n",
            "Epoch 99/500\n",
            "313/313 [==============================] - 25s 81ms/step - loss: 3.5343 - accuracy: 0.1733 - val_loss: 3.5111 - val_accuracy: 0.1770\n",
            "Epoch 100/500\n",
            "313/313 [==============================] - 25s 80ms/step - loss: 3.5199 - accuracy: 0.1734 - val_loss: 3.5342 - val_accuracy: 0.1777\n",
            "Epoch 101/500\n",
            "313/313 [==============================] - 25s 80ms/step - loss: 3.5355 - accuracy: 0.1734 - val_loss: 3.6321 - val_accuracy: 0.1518\n",
            "Epoch 102/500\n",
            "313/313 [==============================] - 25s 80ms/step - loss: 3.5490 - accuracy: 0.1665 - val_loss: 3.5650 - val_accuracy: 0.1703\n",
            "Epoch 103/500\n",
            "313/313 [==============================] - 25s 80ms/step - loss: 3.5202 - accuracy: 0.1742 - val_loss: 3.5045 - val_accuracy: 0.1807\n",
            "Epoch 104/500\n",
            "313/313 [==============================] - 25s 80ms/step - loss: 3.5194 - accuracy: 0.1708 - val_loss: 3.5348 - val_accuracy: 0.1732\n",
            "Epoch 105/500\n",
            "313/313 [==============================] - 25s 80ms/step - loss: 3.5137 - accuracy: 0.1749 - val_loss: 3.5104 - val_accuracy: 0.1794\n",
            "Epoch 106/500\n",
            "313/313 [==============================] - 25s 80ms/step - loss: 3.5300 - accuracy: 0.1737 - val_loss: 3.5386 - val_accuracy: 0.1770\n",
            "Epoch 107/500\n",
            "313/313 [==============================] - 26s 82ms/step - loss: 3.5178 - accuracy: 0.1748 - val_loss: 3.5029 - val_accuracy: 0.1779\n",
            "Epoch 108/500\n",
            "313/313 [==============================] - 25s 80ms/step - loss: 3.5243 - accuracy: 0.1714 - val_loss: 3.5181 - val_accuracy: 0.1685\n",
            "Epoch 109/500\n",
            "313/313 [==============================] - 25s 81ms/step - loss: 3.5278 - accuracy: 0.1741 - val_loss: 3.6063 - val_accuracy: 0.1592\n",
            "Epoch 110/500\n",
            "313/313 [==============================] - 25s 81ms/step - loss: 3.5284 - accuracy: 0.1727 - val_loss: 3.5646 - val_accuracy: 0.1659\n",
            "Epoch 111/500\n",
            "313/313 [==============================] - 25s 81ms/step - loss: 3.5304 - accuracy: 0.1698 - val_loss: 3.5467 - val_accuracy: 0.1729\n",
            "Epoch 112/500\n",
            "313/313 [==============================] - 25s 81ms/step - loss: 3.5230 - accuracy: 0.1743 - val_loss: 3.5163 - val_accuracy: 0.1795\n",
            "Epoch 113/500\n",
            "313/313 [==============================] - 25s 81ms/step - loss: 3.5309 - accuracy: 0.1718 - val_loss: 3.5056 - val_accuracy: 0.1740\n",
            "Epoch 114/500\n",
            "313/313 [==============================] - 25s 80ms/step - loss: 3.5211 - accuracy: 0.1747 - val_loss: 3.5262 - val_accuracy: 0.1749\n",
            "Epoch 115/500\n",
            "313/313 [==============================] - 25s 80ms/step - loss: 3.5285 - accuracy: 0.1734 - val_loss: 3.4721 - val_accuracy: 0.1852\n",
            "Epoch 116/500\n",
            "313/313 [==============================] - 25s 80ms/step - loss: 3.5294 - accuracy: 0.1729 - val_loss: 3.5314 - val_accuracy: 0.1759\n",
            "Epoch 117/500\n",
            "313/313 [==============================] - 25s 80ms/step - loss: 3.5313 - accuracy: 0.1718 - val_loss: 3.5146 - val_accuracy: 0.1793\n",
            "Epoch 118/500\n",
            "313/313 [==============================] - 25s 81ms/step - loss: 3.5259 - accuracy: 0.1715 - val_loss: 3.6184 - val_accuracy: 0.1662\n",
            "Epoch 119/500\n",
            "313/313 [==============================] - 26s 82ms/step - loss: 3.5384 - accuracy: 0.1714 - val_loss: 3.5250 - val_accuracy: 0.1823\n",
            "Epoch 120/500\n",
            "313/313 [==============================] - 25s 81ms/step - loss: 3.5166 - accuracy: 0.1736 - val_loss: 3.4640 - val_accuracy: 0.1845\n",
            "Epoch 121/500\n",
            "313/313 [==============================] - 25s 81ms/step - loss: 3.5320 - accuracy: 0.1708 - val_loss: 3.5219 - val_accuracy: 0.1743\n",
            "Epoch 122/500\n",
            "313/313 [==============================] - 25s 81ms/step - loss: 3.5216 - accuracy: 0.1713 - val_loss: 3.5578 - val_accuracy: 0.1760\n",
            "Epoch 123/500\n",
            "313/313 [==============================] - 26s 82ms/step - loss: 3.5398 - accuracy: 0.1718 - val_loss: 3.5793 - val_accuracy: 0.1684\n",
            "Epoch 124/500\n",
            "313/313 [==============================] - 25s 81ms/step - loss: 3.5303 - accuracy: 0.1704 - val_loss: 3.4610 - val_accuracy: 0.1912\n",
            "Epoch 125/500\n",
            "313/313 [==============================] - 25s 81ms/step - loss: 3.5406 - accuracy: 0.1708 - val_loss: 3.5507 - val_accuracy: 0.1786\n",
            "Epoch 126/500\n",
            "313/313 [==============================] - 25s 81ms/step - loss: 3.5384 - accuracy: 0.1732 - val_loss: 3.5378 - val_accuracy: 0.1735\n",
            "Epoch 127/500\n",
            "313/313 [==============================] - 25s 81ms/step - loss: 3.5660 - accuracy: 0.1729 - val_loss: 3.5153 - val_accuracy: 0.1782\n",
            "Epoch 128/500\n",
            "313/313 [==============================] - 25s 81ms/step - loss: 3.5364 - accuracy: 0.1725 - val_loss: 3.5960 - val_accuracy: 0.1743\n",
            "Epoch 129/500\n",
            "313/313 [==============================] - 25s 81ms/step - loss: 3.5528 - accuracy: 0.1699 - val_loss: 3.6181 - val_accuracy: 0.1720\n",
            "Epoch 130/500\n",
            "313/313 [==============================] - 25s 81ms/step - loss: 3.5355 - accuracy: 0.1709 - val_loss: 3.5456 - val_accuracy: 0.1779\n",
            "Epoch 131/500\n",
            "313/313 [==============================] - 26s 82ms/step - loss: 3.5393 - accuracy: 0.1685 - val_loss: 3.5051 - val_accuracy: 0.1816\n",
            "Epoch 132/500\n",
            "313/313 [==============================] - 25s 81ms/step - loss: 3.5665 - accuracy: 0.1684 - val_loss: 3.5769 - val_accuracy: 0.1702\n",
            "Epoch 133/500\n",
            "313/313 [==============================] - 25s 81ms/step - loss: 3.5441 - accuracy: 0.1688 - val_loss: 3.5918 - val_accuracy: 0.1653\n",
            "Epoch 134/500\n",
            "313/313 [==============================] - 25s 80ms/step - loss: 3.5419 - accuracy: 0.1717 - val_loss: 3.5227 - val_accuracy: 0.1740\n",
            "Epoch 135/500\n",
            "313/313 [==============================] - 25s 80ms/step - loss: 3.5596 - accuracy: 0.1682 - val_loss: 3.5904 - val_accuracy: 0.1657\n",
            "Epoch 136/500\n",
            "313/313 [==============================] - 25s 81ms/step - loss: 3.5632 - accuracy: 0.1689 - val_loss: 3.5562 - val_accuracy: 0.1815\n",
            "Epoch 137/500\n",
            "313/313 [==============================] - 25s 81ms/step - loss: 3.5486 - accuracy: 0.1696 - val_loss: 3.5814 - val_accuracy: 0.1656\n",
            "Epoch 138/500\n",
            "313/313 [==============================] - 25s 80ms/step - loss: 3.5386 - accuracy: 0.1714 - val_loss: 3.5649 - val_accuracy: 0.1777\n",
            "Epoch 139/500\n",
            "313/313 [==============================] - 25s 81ms/step - loss: 3.5521 - accuracy: 0.1701 - val_loss: 3.5292 - val_accuracy: 0.1837\n",
            "Epoch 140/500\n",
            "313/313 [==============================] - 25s 81ms/step - loss: 3.5409 - accuracy: 0.1735 - val_loss: 3.5066 - val_accuracy: 0.1798\n",
            "Epoch 141/500\n",
            "313/313 [==============================] - 25s 81ms/step - loss: 3.5488 - accuracy: 0.1722 - val_loss: 3.5788 - val_accuracy: 0.1702\n",
            "Epoch 142/500\n",
            "313/313 [==============================] - 26s 82ms/step - loss: 3.5501 - accuracy: 0.1708 - val_loss: 3.5253 - val_accuracy: 0.1771\n",
            "Epoch 143/500\n",
            "313/313 [==============================] - 26s 82ms/step - loss: 3.5375 - accuracy: 0.1706 - val_loss: 3.6676 - val_accuracy: 0.1532\n",
            "Epoch 144/500\n",
            "313/313 [==============================] - 25s 81ms/step - loss: 3.5549 - accuracy: 0.1674 - val_loss: 3.6423 - val_accuracy: 0.1585\n",
            "Epoch 145/500\n",
            "313/313 [==============================] - 26s 82ms/step - loss: 3.5448 - accuracy: 0.1693 - val_loss: 3.5519 - val_accuracy: 0.1758\n",
            "Epoch 146/500\n",
            "313/313 [==============================] - 25s 81ms/step - loss: 3.5525 - accuracy: 0.1686 - val_loss: 3.5547 - val_accuracy: 0.1777\n",
            "Epoch 147/500\n",
            "313/313 [==============================] - 25s 81ms/step - loss: 3.5575 - accuracy: 0.1659 - val_loss: 3.6168 - val_accuracy: 0.1615\n",
            "Epoch 148/500\n",
            "313/313 [==============================] - 25s 81ms/step - loss: 3.5726 - accuracy: 0.1676 - val_loss: 3.5582 - val_accuracy: 0.1707\n",
            "Epoch 149/500\n",
            "313/313 [==============================] - 25s 81ms/step - loss: 3.5544 - accuracy: 0.1714 - val_loss: 3.5542 - val_accuracy: 0.1740\n",
            "Epoch 150/500\n",
            "313/313 [==============================] - 25s 81ms/step - loss: 3.5457 - accuracy: 0.1713 - val_loss: 3.6003 - val_accuracy: 0.1653\n",
            "Epoch 151/500\n",
            "313/313 [==============================] - 25s 81ms/step - loss: 3.5488 - accuracy: 0.1699 - val_loss: 3.5576 - val_accuracy: 0.1714\n",
            "Epoch 152/500\n",
            "313/313 [==============================] - 26s 82ms/step - loss: 3.5413 - accuracy: 0.1710 - val_loss: 3.5023 - val_accuracy: 0.1821\n",
            "Epoch 153/500\n",
            "117/313 [==========>...................] - ETA: 15s - loss: 3.5203 - accuracy: 0.1761"
          ]
        }
      ]
    },
    {
      "cell_type": "code",
      "source": [
        "#đánh giá chất lượng của mô hình và vẽ lại\n",
        "score = model.evaluate(x_test,y_test,verbose=0)\n",
        "print('Sai số kiểm tra là: ',score[0])\n",
        "print('Độ chính xác kiểm tra là: ',score[1])\n",
        "#vẽ đồ thị\n",
        "plt.plot(history.history['accuracy'])\n",
        "plt.plot(history.history['val_accuracy'])\n",
        "plt.title('model accuracy')\n",
        "plt.ylabel('accuracy')\n",
        "plt.xlabel('epochs')\n",
        "plt.legend(['train','Validation'])\n",
        "plt.show()"
      ],
      "metadata": {
        "id": "ykSiLQiboyQL"
      },
      "execution_count": null,
      "outputs": []
    },
    {
      "cell_type": "code",
      "source": [
        ""
      ],
      "metadata": {
        "id": "9ruqClJn7ebP"
      },
      "execution_count": null,
      "outputs": []
    }
  ]
}