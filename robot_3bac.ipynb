{
  "nbformat": 4,
  "nbformat_minor": 0,
  "metadata": {
    "colab": {
      "name": "robot_3bac.ipynb",
      "provenance": [],
      "collapsed_sections": [],
      "authorship_tag": "ABX9TyP3Pv3DlienmRQp+zOxmZvz",
      "include_colab_link": true
    },
    "kernelspec": {
      "name": "python3",
      "display_name": "Python 3"
    },
    "language_info": {
      "name": "python"
    }
  },
  "cells": [
    {
      "cell_type": "markdown",
      "metadata": {
        "id": "view-in-github",
        "colab_type": "text"
      },
      "source": [
        "<a href=\"https://colab.research.google.com/github/joethecoolest/Bai_Tap_AI/blob/main/robot_3bac.ipynb\" target=\"_parent\"><img src=\"https://colab.research.google.com/assets/colab-badge.svg\" alt=\"Open In Colab\"/></a>"
      ]
    },
    {
      "cell_type": "code",
      "execution_count": null,
      "metadata": {
        "id": "XMj6hZAkjsVs"
      },
      "outputs": [],
      "source": [
        "import keras\n",
        "import numpy as np\n",
        "import matplotlib.pyplot as plt\n",
        "from keras.layers import Dense, Activation, Dropout, BatchNormalization, LSTM\n",
        "from keras.models import Sequential\n",
        "from tensorflow.keras.utils import to_categorical\n",
        "from tensorflow.keras.optimizers import RMSprop\n",
        "from skimage import color\n",
        "from keras.callbacks import EarlyStopping"
      ]
    },
    {
      "cell_type": "code",
      "source": [
        "import pandas as pd \n",
        "import seaborn as sns \n",
        "from sklearn.model_selection import train_test_split\n",
        "from keras import callbacks\n",
        "from sklearn.metrics import precision_score, recall_score, confusion_matrix, classification_report, accuracy_score, f1_score "
      ],
      "metadata": {
        "id": "FF27jyaej4Gz"
      },
      "execution_count": null,
      "outputs": []
    },
    {
      "cell_type": "code",
      "source": [
        "import csv\n",
        "import math as m\n",
        "l1 = 50\n",
        "l2 = 40\n",
        "l3 = 20\n",
        "with open('Robot3b.csv','w') as file:\n",
        "  writer = csv.writer(file)\n",
        "  writer.writerow(['tt1','tt2','tt3','Px','Py','T'])\n",
        "\n",
        "  for tt1 in range(-150,151,1):\n",
        "    for tt2 in range(-120,121,1):\n",
        "      for tt3 in range(-90,91,1): \n",
        "        Px = l1*m.cos(tt1) + l2*m.cos(tt1+tt2)+ l3*m.cos(tt1+tt2+tt3)\n",
        "        Py = l1*m.sin(tt1) + l2*m.sin(tt1+tt2)+ l3*m.sin(tt1+tt2+tt3)\n",
        "        T = tt1+tt2+tt3\n",
        "        writer.writerow([tt1,tt2,tt3,Px,Py,T])\n",
        "\n",
        "\n",
        "data=pd.read_csv('Robot3b.csv')\n",
        "data\n",
        "\n",
        "x=data.drop(data.columns[:3],axis=1)\n",
        "y=data.drop(data.columns[3:],axis=1)\n",
        "\n",
        "x_train,x_test,y_train,y_test=train_test_split(x,y,test_size=0.25,random_state=10)"
      ],
      "metadata": {
        "id": "XlAZi9txkB8j"
      },
      "execution_count": null,
      "outputs": []
    },
    {
      "cell_type": "code",
      "source": [
        "model=Sequential()\n",
        "model.add(Dense(512,activation='relu',input_shape=(3,)))\n",
        "model.add(Dense(500,activation='relu'))\n",
        "model.add(Dense(300,activation='relu'))\n",
        "model.add(Dense(100,activation='relu'))\n",
        "model.add(Dense(3,activation='softmax'))\n",
        "model.summary()\n",
        "\n",
        "model.compile(loss='categorical_crossentropy',optimizer=RMSprop(),metrics=['accuracy'])\n",
        "history = model.fit(x_train,y_train,batch_size = 128,epochs=5,verbose=1,callbacks=[EarlyStopping(monitor='val_loss',patience=20)],validation_data = (x_test, y_test))\n",
        "\n",
        "score = model.evaluate(x_test, y_test,verbose=0)\n",
        "print('Sai so kiem tra la:', score[0])\n",
        "print('Do chinh xac kiem tra la:', score[1])\n",
        "\n",
        "model.save('Robot3b.h5')\n",
        "from tensorflow.keras.models import load_model\n",
        "model = load_model('Robot3b.h5')\n",
        "\n",
        "plt.plot(history.history['accuracy'])\n",
        "plt.plot(history.history['val_accuracy'])\n",
        "plt.title('Model accuracy')\n",
        "plt.ylabel('accuracy')\n",
        "plt.xlabel('Epochs')\n",
        "plt.legend(['train','Validation'])\n",
        "plt.show()"
      ],
      "metadata": {
        "colab": {
          "base_uri": "https://localhost:8080/"
        },
        "id": "hBXQV25YkB_D",
        "outputId": "9fe102be-a7c2-4bca-c132-7154980c5a5a"
      },
      "execution_count": null,
      "outputs": [
        {
          "output_type": "stream",
          "name": "stdout",
          "text": [
            "Model: \"sequential\"\n",
            "_________________________________________________________________\n",
            " Layer (type)                Output Shape              Param #   \n",
            "=================================================================\n",
            " dense (Dense)               (None, 512)               2048      \n",
            "                                                                 \n",
            " dense_1 (Dense)             (None, 500)               256500    \n",
            "                                                                 \n",
            " dense_2 (Dense)             (None, 300)               150300    \n",
            "                                                                 \n",
            " dense_3 (Dense)             (None, 100)               30100     \n",
            "                                                                 \n",
            " dense_4 (Dense)             (None, 3)                 303       \n",
            "                                                                 \n",
            "=================================================================\n",
            "Total params: 439,251\n",
            "Trainable params: 439,251\n",
            "Non-trainable params: 0\n",
            "_________________________________________________________________\n",
            "Epoch 1/5\n",
            "76934/76934 [==============================] - 1478s 19ms/step - loss: -11242406338451472384.0000 - accuracy: 0.4569 - val_loss: -67427194331595800576.0000 - val_accuracy: 0.4568\n",
            "Epoch 2/5\n",
            "76934/76934 [==============================] - 1415s 18ms/step - loss: nan - accuracy: 0.4388 - val_loss: nan - val_accuracy: 0.3831\n",
            "Epoch 3/5\n",
            "76934/76934 [==============================] - 1456s 19ms/step - loss: nan - accuracy: 0.3827 - val_loss: nan - val_accuracy: 0.3831\n",
            "Epoch 4/5\n",
            " 2785/76934 [>.............................] - ETA: 21:28 - loss: nan - accuracy: 0.3812"
          ]
        }
      ]
    },
    {
      "cell_type": "code",
      "source": [
        ""
      ],
      "metadata": {
        "id": "hwTfCBDpkCBT"
      },
      "execution_count": null,
      "outputs": []
    },
    {
      "cell_type": "code",
      "source": [
        ""
      ],
      "metadata": {
        "id": "evT_ySUykCD1"
      },
      "execution_count": null,
      "outputs": []
    },
    {
      "cell_type": "code",
      "source": [
        ""
      ],
      "metadata": {
        "id": "l2DhzLEAkCGD"
      },
      "execution_count": null,
      "outputs": []
    },
    {
      "cell_type": "code",
      "source": [
        ""
      ],
      "metadata": {
        "id": "kcAbR_GPkCIS"
      },
      "execution_count": null,
      "outputs": []
    },
    {
      "cell_type": "code",
      "source": [
        ""
      ],
      "metadata": {
        "id": "-fQ26p2okCLD"
      },
      "execution_count": null,
      "outputs": []
    },
    {
      "cell_type": "code",
      "source": [
        ""
      ],
      "metadata": {
        "id": "jTJptkjWkCNV"
      },
      "execution_count": null,
      "outputs": []
    },
    {
      "cell_type": "code",
      "source": [
        ""
      ],
      "metadata": {
        "id": "hRzxNjqVkCQE"
      },
      "execution_count": null,
      "outputs": []
    },
    {
      "cell_type": "code",
      "source": [
        ""
      ],
      "metadata": {
        "id": "GL4C-KrKkCSr"
      },
      "execution_count": null,
      "outputs": []
    },
    {
      "cell_type": "code",
      "source": [
        ""
      ],
      "metadata": {
        "id": "aS-I59FbkCVG"
      },
      "execution_count": null,
      "outputs": []
    }
  ]
}