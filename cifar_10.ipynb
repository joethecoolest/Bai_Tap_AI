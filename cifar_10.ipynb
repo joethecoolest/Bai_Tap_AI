{
  "nbformat": 4,
  "nbformat_minor": 0,
  "metadata": {
    "colab": {
      "name": "cifar_10.ipynb",
      "provenance": [],
      "include_colab_link": true
    },
    "kernelspec": {
      "name": "python3",
      "display_name": "Python 3"
    },
    "language_info": {
      "name": "python"
    }
  },
  "cells": [
    {
      "cell_type": "markdown",
      "metadata": {
        "id": "view-in-github",
        "colab_type": "text"
      },
      "source": [
        "<a href=\"https://colab.research.google.com/github/joethecoolest/Bai_Tap_AI/blob/main/cifar_10.ipynb\" target=\"_parent\"><img src=\"https://colab.research.google.com/assets/colab-badge.svg\" alt=\"Open In Colab\"/></a>"
      ]
    },
    {
      "cell_type": "code",
      "execution_count": 1,
      "metadata": {
        "id": "5s4Lj2SqnQdY"
      },
      "outputs": [],
      "source": [
        "#import thư viện\n",
        "import numpy as np #thư viện xử lý ma trận\n",
        "from keras.utils import np_utils # thư viện xử lý chuyển class\n",
        "from keras.datasets import cifar10 # gọi tập dataset động vật, máy bay \n",
        "from keras.models import Sequential # hàm chạy mô hình\n",
        "from keras.layers import Dense, Dropout # tạo mạng nơ ron\n",
        "from tensorflow.keras.optimizersj import RMSprop \n",
        "import matplotlib.pyplot as plt  # thư viện dùng để vẽ\n",
        "from keras.backend import dropout"
      ]
    },
    {
      "cell_type": "code",
      "source": [
        "# chia tập dữ liệu thành 2 bộ train và test\n",
        "(x_train, y_train),(x_test,y_test) = cifar10.load_data()"
      ],
      "metadata": {
        "id": "KDE1I3B8c_3X",
        "outputId": "7ef512fb-88a0-4f00-c833-bdc54b217387",
        "colab": {
          "base_uri": "https://localhost:8080/"
        }
      },
      "execution_count": 2,
      "outputs": [
        {
          "output_type": "stream",
          "name": "stdout",
          "text": [
            "Downloading data from https://www.cs.toronto.edu/~kriz/cifar-10-python.tar.gz\n",
            "170500096/170498071 [==============================] - 4s 0us/step\n",
            "170508288/170498071 [==============================] - 4s 0us/step\n"
          ]
        }
      ]
    },
    {
      "cell_type": "code",
      "source": [
        "# xem kích thược của tập dữ liệu\n",
        "print('Kích thước x_train: ', x_train.shape)\n",
        "print('Kích thước y_train: ', y_train.shape)\n",
        "print('Kích thước x_test: ', x_test.shape)\n",
        "print('Kích thước y_test: ', y_test.shape)"
      ],
      "metadata": {
        "colab": {
          "base_uri": "https://localhost:8080/"
        },
        "id": "6Sg4o3R-n787",
        "outputId": "8aeb082d-1f9c-478b-8a4b-6c36e9e11fc5"
      },
      "execution_count": 3,
      "outputs": [
        {
          "output_type": "stream",
          "name": "stdout",
          "text": [
            "Kích thước x_train:  (50000, 32, 32, 3)\n",
            "Kích thước y_train:  (50000, 1)\n",
            "Kích thước x_test:  (10000, 32, 32, 3)\n",
            "Kích thước y_test:  (10000, 1)\n"
          ]
        }
      ]
    },
    {
      "cell_type": "code",
      "source": [
        "#chuyển chiều của x từ 3 chiều về 2 chiều VÌ cifar10 ở đầu vào có 4 chiều để chuyển về\n",
        "# 2 chiều bằng cách 32*32*3=3072\n",
        "x_train = x_train.reshape(50000,3072)\n",
        "x_test = x_test.reshape(10000,3072)\n",
        "# ép kiểu\n",
        "x_train = x_train.astype('float32')\n",
        "x_test = x_test.astype('float32')\n",
        "#chuẩn hóa dữ liệu\n",
        "x_train /=255\n",
        "x_test /=255\n",
        "#chuyển y từ 1 class thành 10 class\n",
        "y_train = np_utils.to_categorical(y_train,10)\n",
        "y_test = np_utils.to_categorical(y_test,10)"
      ],
      "metadata": {
        "id": "m2piqLiGn-Au"
      },
      "execution_count": 4,
      "outputs": []
    },
    {
      "cell_type": "code",
      "source": [
        "#tạo mạng nơ-ron\n",
        "model = Sequential()\n",
        "model.add(Dense(512,activation='relu',input_shape=(3072,)))\n",
        "model.add(Dropout(0.2))\n",
        "model.add(Dense(512,activation='relu'))\n",
        "model.add(Dropout(0.2))\n",
        "model.add(Dense(10,activation='softmax'))\n",
        "\n",
        "model.summary()"
      ],
      "metadata": {
        "colab": {
          "base_uri": "https://localhost:8080/"
        },
        "id": "hOFBLXnFoLf_",
        "outputId": "4b539232-b1c3-4d79-d2ad-c88c20d19240"
      },
      "execution_count": 5,
      "outputs": [
        {
          "output_type": "stream",
          "name": "stdout",
          "text": [
            "Model: \"sequential\"\n",
            "_________________________________________________________________\n",
            " Layer (type)                Output Shape              Param #   \n",
            "=================================================================\n",
            " dense (Dense)               (None, 512)               1573376   \n",
            "                                                                 \n",
            " dropout (Dropout)           (None, 512)               0         \n",
            "                                                                 \n",
            " dense_1 (Dense)             (None, 512)               262656    \n",
            "                                                                 \n",
            " dropout_1 (Dropout)         (None, 512)               0         \n",
            "                                                                 \n",
            " dense_2 (Dense)             (None, 10)                5130      \n",
            "                                                                 \n",
            "=================================================================\n",
            "Total params: 1,841,162\n",
            "Trainable params: 1,841,162\n",
            "Non-trainable params: 0\n",
            "_________________________________________________________________\n"
          ]
        }
      ]
    },
    {
      "cell_type": "code",
      "source": [
        "#chạy model với số lần học là 500 và độ kiên nhẫn là 100\n",
        "model.compile(loss='categorical_crossentropy',optimizer=RMSprop(), metrics=['accuracy'])\n",
        "model.compile(loss='categorical_crossentropy',optimizer=RMSprop(), metrics=['accuracy'])\n",
        "from keras.callbacks import EarlyStopping\n",
        "history = model.fit(x_train,y_train,batch_size=128,epochs=500,verbose=1,\n",
        "                    validation_split=0.2,callbacks=[EarlyStopping(monitor='val_loss',patience=100)])"
      ],
      "metadata": {
        "colab": {
          "base_uri": "https://localhost:8080/"
        },
        "id": "64rKl6whoPUb",
        "outputId": "2523f4cc-d931-4eb0-e690-7b01aab3a214"
      },
      "execution_count": 6,
      "outputs": [
        {
          "output_type": "stream",
          "name": "stdout",
          "text": [
            "313/313 [==============================] - 12s 37ms/step - loss: 1.3725 - accuracy: 0.5173 - val_loss: 1.5602 - val_accuracy: 0.4705\n",
            "Epoch 153/500\n",
            "313/313 [==============================] - 12s 37ms/step - loss: 1.3669 - accuracy: 0.5186 - val_loss: 1.5716 - val_accuracy: 0.4672\n",
            "Epoch 154/500\n",
            "313/313 [==============================] - 11s 37ms/step - loss: 1.3585 - accuracy: 0.5202 - val_loss: 1.6525 - val_accuracy: 0.4556\n",
            "Epoch 155/500\n",
            "313/313 [==============================] - 11s 37ms/step - loss: 1.3636 - accuracy: 0.5221 - val_loss: 1.6021 - val_accuracy: 0.4820\n",
            "Epoch 156/500\n",
            "313/313 [==============================] - 11s 36ms/step - loss: 1.3658 - accuracy: 0.5189 - val_loss: 1.5815 - val_accuracy: 0.4824\n",
            "Epoch 157/500\n",
            "313/313 [==============================] - 11s 37ms/step - loss: 1.3643 - accuracy: 0.5207 - val_loss: 1.7103 - val_accuracy: 0.4468\n",
            "Epoch 158/500\n",
            "313/313 [==============================] - 12s 37ms/step - loss: 1.3573 - accuracy: 0.5199 - val_loss: 1.6080 - val_accuracy: 0.4663\n",
            "Epoch 159/500\n",
            "313/313 [==============================] - 12s 37ms/step - loss: 1.3649 - accuracy: 0.5178 - val_loss: 1.7473 - val_accuracy: 0.4194\n",
            "Epoch 160/500\n",
            "313/313 [==============================] - 12s 37ms/step - loss: 1.3624 - accuracy: 0.5191 - val_loss: 1.7175 - val_accuracy: 0.4666\n",
            "Epoch 161/500\n",
            "313/313 [==============================] - 11s 36ms/step - loss: 1.3607 - accuracy: 0.5199 - val_loss: 1.8101 - val_accuracy: 0.4080\n",
            "Epoch 162/500\n",
            "313/313 [==============================] - 11s 37ms/step - loss: 1.3570 - accuracy: 0.5233 - val_loss: 1.6429 - val_accuracy: 0.4491\n",
            "Epoch 163/500\n",
            "313/313 [==============================] - 12s 37ms/step - loss: 1.3641 - accuracy: 0.5216 - val_loss: 1.8885 - val_accuracy: 0.4662\n",
            "Epoch 164/500\n",
            "313/313 [==============================] - 12s 37ms/step - loss: 1.3734 - accuracy: 0.5152 - val_loss: 1.6001 - val_accuracy: 0.4470\n",
            "Epoch 165/500\n",
            "313/313 [==============================] - 12s 37ms/step - loss: 1.3600 - accuracy: 0.5189 - val_loss: 1.6304 - val_accuracy: 0.4662\n",
            "Epoch 166/500\n",
            "313/313 [==============================] - 12s 37ms/step - loss: 1.3600 - accuracy: 0.5194 - val_loss: 1.6043 - val_accuracy: 0.4790\n",
            "Epoch 167/500\n",
            "313/313 [==============================] - 12s 37ms/step - loss: 1.3674 - accuracy: 0.5183 - val_loss: 1.5950 - val_accuracy: 0.4645\n",
            "Epoch 168/500\n",
            "313/313 [==============================] - 12s 37ms/step - loss: 1.3634 - accuracy: 0.5207 - val_loss: 1.6987 - val_accuracy: 0.4657\n",
            "Epoch 169/500\n",
            "313/313 [==============================] - 12s 37ms/step - loss: 1.3605 - accuracy: 0.5193 - val_loss: 1.6325 - val_accuracy: 0.4834\n",
            "Epoch 170/500\n",
            "313/313 [==============================] - 12s 37ms/step - loss: 1.3675 - accuracy: 0.5208 - val_loss: 1.7221 - val_accuracy: 0.4335\n",
            "Epoch 171/500\n",
            "313/313 [==============================] - 12s 38ms/step - loss: 1.3797 - accuracy: 0.5186 - val_loss: 1.6950 - val_accuracy: 0.4723\n",
            "Epoch 172/500\n",
            "313/313 [==============================] - 12s 38ms/step - loss: 1.3622 - accuracy: 0.5185 - val_loss: 1.7190 - val_accuracy: 0.4722\n",
            "Epoch 173/500\n",
            "313/313 [==============================] - 12s 37ms/step - loss: 1.3610 - accuracy: 0.5187 - val_loss: 1.8556 - val_accuracy: 0.4425\n",
            "Epoch 174/500\n",
            "313/313 [==============================] - 12s 37ms/step - loss: 1.3621 - accuracy: 0.5218 - val_loss: 1.6337 - val_accuracy: 0.4536\n",
            "Epoch 175/500\n",
            "313/313 [==============================] - 12s 37ms/step - loss: 1.3585 - accuracy: 0.5182 - val_loss: 1.5930 - val_accuracy: 0.4714\n",
            "Epoch 176/500\n",
            "313/313 [==============================] - 12s 38ms/step - loss: 1.3607 - accuracy: 0.5227 - val_loss: 1.6825 - val_accuracy: 0.4545\n",
            "Epoch 177/500\n",
            "313/313 [==============================] - 12s 38ms/step - loss: 1.3605 - accuracy: 0.5210 - val_loss: 1.6534 - val_accuracy: 0.4566\n",
            "Epoch 178/500\n",
            "313/313 [==============================] - 12s 38ms/step - loss: 1.3635 - accuracy: 0.5185 - val_loss: 1.6497 - val_accuracy: 0.4862\n",
            "Epoch 179/500\n",
            "313/313 [==============================] - 12s 37ms/step - loss: 1.3548 - accuracy: 0.5253 - val_loss: 1.7225 - val_accuracy: 0.4621\n",
            "Epoch 180/500\n",
            "313/313 [==============================] - 12s 37ms/step - loss: 1.3664 - accuracy: 0.5176 - val_loss: 1.6521 - val_accuracy: 0.4618\n",
            "Epoch 181/500\n",
            "313/313 [==============================] - 12s 37ms/step - loss: 1.3668 - accuracy: 0.5191 - val_loss: 1.6305 - val_accuracy: 0.4515\n",
            "Epoch 182/500\n",
            "313/313 [==============================] - 11s 36ms/step - loss: 1.3617 - accuracy: 0.5219 - val_loss: 1.6251 - val_accuracy: 0.4653\n"
          ]
        }
      ]
    },
    {
      "cell_type": "code",
      "source": [
        "#đánh giá chất lượng của mô hình và vẽ lại\n",
        "score = model.evaluate(x_test,y_test,verbose=0)\n",
        "print('Sai số kiểm tra là: ',score[0])\n",
        "print('Độ chính xác kiểm tra là: ',score[1])\n",
        "#vẽ đồ thị\n",
        "plt.plot(history.history['accuracy'])\n",
        "plt.plot(history.history['val_accuracy'])\n",
        "plt.title('model accuracy')\n",
        "plt.ylabel('accuracy')\n",
        "plt.xlabel('epochs')\n",
        "plt.legend(['train','Validation'])\n",
        "plt.show()"
      ],
      "metadata": {
        "colab": {
          "base_uri": "https://localhost:8080/",
          "height": 330
        },
        "id": "keErUnrpoRBM",
        "outputId": "306c1cb7-d337-4fe7-91f0-e35e2c105ce5"
      },
      "execution_count": 7,
      "outputs": [
        {
          "output_type": "stream",
          "name": "stdout",
          "text": [
            "Sai số kiểm tra là:  1.6246215105056763\n",
            "Độ chính xác kiểm tra là:  0.45809999108314514\n"
          ]
        },
        {
          "output_type": "display_data",
          "data": {
            "text/plain": [
              "<Figure size 432x288 with 1 Axes>"
            ],
            "image/png": "[encoded data removed]"
          },
          "metadata": {
            "needs_background": "light"
          }
        }
      ]
    },
    {
      "cell_type": "code",
      "source": [
        ""
      ],
      "metadata": {
        "id": "i5-BwB8j1MBS"
      },
      "execution_count": 7,
      "outputs": []
    }
  ]
}