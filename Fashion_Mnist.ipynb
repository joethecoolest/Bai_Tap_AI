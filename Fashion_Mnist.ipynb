{
  "nbformat": 4,
  "nbformat_minor": 0,
  "metadata": {
    "colab": {
      "name": "Fashion_Mnist.ipynb",
      "provenance": [],
      "include_colab_link": true
    },
    "kernelspec": {
      "name": "python3",
      "display_name": "Python 3"
    },
    "language_info": {
      "name": "python"
    }
  },
  "cells": [
    {
      "cell_type": "markdown",
      "metadata": {
        "id": "view-in-github",
        "colab_type": "text"
      },
      "source": [
        "<a href=\"https://colab.research.google.com/github/joethecoolest/Bai_Tap_AI/blob/main/Fashion_Mnist.ipynb\" target=\"_parent\"><img src=\"https://colab.research.google.com/assets/colab-badge.svg\" alt=\"Open In Colab\"/></a>"
      ]
    },
    {
      "cell_type": "code",
      "execution_count": null,
      "metadata": {
        "id": "rd1rnIcEmvyy"
      },
      "outputs": [],
      "source": [
        "#import thư viện\n",
        "import numpy as np #thư viện xử lý ma trận\n",
        "from keras.utils import np_utils # thư viện xử lý chuyển class\n",
        "from keras.datasets import fashion_mnist # gọi tập dataset thời trang\n",
        "from keras.models import Sequential # hàm chạy mô hình\n",
        "from keras.layers import Dense, Dropout # tạo mạng nơ ron\n",
        "from tensorflow.keras.optimizers import RMSprop \n",
        "import matplotlib.pyplot as plt  # thư viện dùng để vẽ"
      ]
    },
    {
      "cell_type": "code",
      "source": [
        "# chia tập dữ liệu thành 2 bộ train và test\n",
        "(x_train, y_train),(x_test,y_test) = fashion_mnist.load_data()\n"
      ],
      "metadata": {
        "colab": {
          "base_uri": "https://localhost:8080/"
        },
        "id": "B3GtphU2m0aW",
        "outputId": "ea7567cf-1d62-48e2-86e8-35a4d35f2866"
      },
      "execution_count": null,
      "outputs": [
        {
          "output_type": "stream",
          "name": "stdout",
          "text": [
            "Downloading data from https://storage.googleapis.com/tensorflow/tf-keras-datasets/train-labels-idx1-ubyte.gz\n",
            "32768/29515 [=================================] - 0s 0us/step\n",
            "40960/29515 [=========================================] - 0s 0us/step\n",
            "Downloading data from https://storage.googleapis.com/tensorflow/tf-keras-datasets/train-images-idx3-ubyte.gz\n",
            "26427392/26421880 [==============================] - 1s 0us/step\n",
            "26435584/26421880 [==============================] - 1s 0us/step\n",
            "Downloading data from https://storage.googleapis.com/tensorflow/tf-keras-datasets/t10k-labels-idx1-ubyte.gz\n",
            "16384/5148 [===============================================================================================] - 0s 0us/step\n",
            "Downloading data from https://storage.googleapis.com/tensorflow/tf-keras-datasets/t10k-images-idx3-ubyte.gz\n",
            "4423680/4422102 [==============================] - 0s 0us/step\n",
            "4431872/4422102 [==============================] - 0s 0us/step\n"
          ]
        }
      ]
    },
    {
      "cell_type": "code",
      "source": [
        "# xem kích thược của tập dữ liệu\n",
        "print('Kích thước x_train: ', x_train.shape)\n",
        "print('Kích thước y_train: ', y_train.shape)\n",
        "print('Kích thước x_test: ', x_test.shape)\n",
        "print('Kích thước y_test: ', y_test.shape)"
      ],
      "metadata": {
        "colab": {
          "base_uri": "https://localhost:8080/"
        },
        "id": "e0Vf-LkPm--q",
        "outputId": "dfc24976-897b-4fd8-9661-3a4fb8284e36"
      },
      "execution_count": null,
      "outputs": [
        {
          "output_type": "stream",
          "name": "stdout",
          "text": [
            "Kích thước x_train:  (60000, 28, 28)\n",
            "Kích thước y_train:  (60000,)\n",
            "Kích thước x_test:  (10000, 28, 28)\n",
            "Kích thước y_test:  (10000,)\n"
          ]
        }
      ]
    },
    {
      "cell_type": "code",
      "source": [
        "#chuyển chiều của x từ 3 chiều về 2 chiều\n",
        "x_train = x_train.reshape(60000,784)\n",
        "x_test = x_test.reshape(10000,784)\n",
        "# ép kiểu\n",
        "x_train = x_train.astype('float32')\n",
        "x_test = x_test.astype('float32')\n",
        "#chuẩn hóa dữ liệu\n",
        "x_train /=255\n",
        "x_test /=255\n",
        "#chuyển y từ 1 class thành 10 class\n",
        "y_train = np_utils.to_categorical(y_train,10)\n",
        "y_test = np_utils.to_categorical(y_test,10)"
      ],
      "metadata": {
        "id": "20htAt23nDtR"
      },
      "execution_count": null,
      "outputs": []
    },
    {
      "cell_type": "code",
      "source": [
        "#tạo mạng nơ-ron\n",
        "model = Sequential()\n",
        "model.add(Dense(512,activation='relu',input_shape=(784,)))\n",
        "model.add(Dropout(0.2))\n",
        "model.add(Dense(512,activation='relu'))\n",
        "model.add(Dropout(0.2))\n",
        "model.add(Dense(10,activation='softmax'))\n",
        "model.summary()"
      ],
      "metadata": {
        "colab": {
          "base_uri": "https://localhost:8080/"
        },
        "id": "4KvwWCepnFLj",
        "outputId": "75ebff41-c10c-4d3e-8340-676817966cf2"
      },
      "execution_count": null,
      "outputs": [
        {
          "output_type": "stream",
          "name": "stdout",
          "text": [
            "Model: \"sequential\"\n",
            "_________________________________________________________________\n",
            " Layer (type)                Output Shape              Param #   \n",
            "=================================================================\n",
            " dense (Dense)               (None, 512)               401920    \n",
            "                                                                 \n",
            " dropout (Dropout)           (None, 512)               0         \n",
            "                                                                 \n",
            " dense_1 (Dense)             (None, 512)               262656    \n",
            "                                                                 \n",
            " dropout_1 (Dropout)         (None, 512)               0         \n",
            "                                                                 \n",
            " dense_2 (Dense)             (None, 10)                5130      \n",
            "                                                                 \n",
            "=================================================================\n",
            "Total params: 669,706\n",
            "Trainable params: 669,706\n",
            "Non-trainable params: 0\n",
            "_________________________________________________________________\n"
          ]
        }
      ]
    },
    {
      "cell_type": "code",
      "source": [
        "#chạy model với số lần học là 500 và độ kiên nhẫn là 100\n",
        "model.compile(loss='categorical_crossentropy',optimizer=RMSprop(), metrics=['accuracy'])\n",
        "model.compile(loss='categorical_crossentropy',optimizer=RMSprop(), metrics=['accuracy'])\n",
        "from keras.callbacks import EarlyStopping\n",
        "history = model.fit(x_train,y_train,batch_size=128,epochs=500,verbose=1,\n",
        "                    validation_split=0.2,callbacks=[EarlyStopping(monitor='val_loss',patience=100)])"
      ],
      "metadata": {
        "colab": {
          "base_uri": "https://localhost:8080/"
        },
        "id": "7pXZUrAbnHNY",
        "outputId": "0da7d992-b5c5-4d54-d5d5-657e72062852"
      },
      "execution_count": null,
      "outputs": [
        {
          "output_type": "stream",
          "name": "stdout",
          "text": [
            "Epoch 1/500\n",
            "375/375 [==============================] - 13s 31ms/step - loss: 0.5835 - accuracy: 0.7875 - val_loss: 0.4902 - val_accuracy: 0.8192\n",
            "Epoch 2/500\n",
            "375/375 [==============================] - 8s 21ms/step - loss: 0.4111 - accuracy: 0.8513 - val_loss: 0.3874 - val_accuracy: 0.8595\n",
            "Epoch 3/500\n",
            "375/375 [==============================] - 7s 18ms/step - loss: 0.3736 - accuracy: 0.8647 - val_loss: 0.3588 - val_accuracy: 0.8677\n",
            "Epoch 4/500\n",
            "375/375 [==============================] - 10s 26ms/step - loss: 0.3540 - accuracy: 0.8711 - val_loss: 0.3328 - val_accuracy: 0.8816\n",
            "Epoch 5/500\n",
            "375/375 [==============================] - 6s 17ms/step - loss: 0.3372 - accuracy: 0.8774 - val_loss: 0.3580 - val_accuracy: 0.8728\n",
            "Epoch 6/500\n",
            "375/375 [==============================] - 6s 17ms/step - loss: 0.3273 - accuracy: 0.8803 - val_loss: 0.4045 - val_accuracy: 0.8609\n",
            "Epoch 7/500\n",
            "375/375 [==============================] - 6s 17ms/step - loss: 0.3166 - accuracy: 0.8840 - val_loss: 0.3908 - val_accuracy: 0.8718\n",
            "Epoch 8/500\n",
            "375/375 [==============================] - 7s 17ms/step - loss: 0.3089 - accuracy: 0.8877 - val_loss: 0.3573 - val_accuracy: 0.8841\n",
            "Epoch 9/500\n",
            "375/375 [==============================] - 6s 17ms/step - loss: 0.2974 - accuracy: 0.8925 - val_loss: 0.3415 - val_accuracy: 0.8866\n",
            "Epoch 10/500\n",
            "375/375 [==============================] - 7s 17ms/step - loss: 0.2973 - accuracy: 0.8919 - val_loss: 0.3427 - val_accuracy: 0.8833\n",
            "Epoch 11/500\n",
            "375/375 [==============================] - 6s 17ms/step - loss: 0.2899 - accuracy: 0.8954 - val_loss: 0.3558 - val_accuracy: 0.8900\n",
            "Epoch 12/500\n",
            "375/375 [==============================] - 7s 17ms/step - loss: 0.2851 - accuracy: 0.8970 - val_loss: 0.3729 - val_accuracy: 0.8896\n",
            "Epoch 13/500\n",
            "375/375 [==============================] - 6s 17ms/step - loss: 0.2835 - accuracy: 0.8976 - val_loss: 0.3560 - val_accuracy: 0.8879\n",
            "Epoch 14/500\n",
            "375/375 [==============================] - 7s 18ms/step - loss: 0.2814 - accuracy: 0.9003 - val_loss: 0.3869 - val_accuracy: 0.8827\n",
            "Epoch 15/500\n",
            "375/375 [==============================] - 6s 17ms/step - loss: 0.2755 - accuracy: 0.9010 - val_loss: 0.3769 - val_accuracy: 0.8861\n",
            "Epoch 16/500\n",
            "375/375 [==============================] - 7s 18ms/step - loss: 0.2734 - accuracy: 0.9015 - val_loss: 0.3494 - val_accuracy: 0.8932\n",
            "Epoch 17/500\n",
            "375/375 [==============================] - 7s 17ms/step - loss: 0.2674 - accuracy: 0.9042 - val_loss: 0.3881 - val_accuracy: 0.8938\n",
            "Epoch 18/500\n",
            "375/375 [==============================] - 7s 19ms/step - loss: 0.2633 - accuracy: 0.9065 - val_loss: 0.4381 - val_accuracy: 0.8792\n",
            "Epoch 19/500\n",
            "375/375 [==============================] - 7s 17ms/step - loss: 0.2652 - accuracy: 0.9055 - val_loss: 0.3882 - val_accuracy: 0.8910\n",
            "Epoch 20/500\n",
            "375/375 [==============================] - 6s 17ms/step - loss: 0.2618 - accuracy: 0.9059 - val_loss: 0.4187 - val_accuracy: 0.8894\n",
            "Epoch 21/500\n",
            "375/375 [==============================] - 6s 17ms/step - loss: 0.2592 - accuracy: 0.9081 - val_loss: 0.4424 - val_accuracy: 0.8913\n",
            "Epoch 22/500\n",
            "375/375 [==============================] - 6s 17ms/step - loss: 0.2581 - accuracy: 0.9090 - val_loss: 0.4339 - val_accuracy: 0.8909\n",
            "Epoch 23/500\n",
            "375/375 [==============================] - 6s 17ms/step - loss: 0.2557 - accuracy: 0.9110 - val_loss: 0.4433 - val_accuracy: 0.8892\n",
            "Epoch 24/500\n",
            "375/375 [==============================] - 6s 17ms/step - loss: 0.2562 - accuracy: 0.9114 - val_loss: 0.4050 - val_accuracy: 0.8917\n",
            "Epoch 25/500\n",
            "375/375 [==============================] - 6s 17ms/step - loss: 0.2499 - accuracy: 0.9130 - val_loss: 0.4206 - val_accuracy: 0.8910\n",
            "Epoch 26/500\n",
            "375/375 [==============================] - 6s 17ms/step - loss: 0.2456 - accuracy: 0.9126 - val_loss: 0.4920 - val_accuracy: 0.8902\n",
            "Epoch 27/500\n",
            "375/375 [==============================] - 6s 17ms/step - loss: 0.2471 - accuracy: 0.9134 - val_loss: 0.4365 - val_accuracy: 0.8928\n",
            "Epoch 28/500\n",
            "375/375 [==============================] - 6s 17ms/step - loss: 0.2432 - accuracy: 0.9150 - val_loss: 0.4567 - val_accuracy: 0.8927\n",
            "Epoch 29/500\n",
            "375/375 [==============================] - 6s 17ms/step - loss: 0.2444 - accuracy: 0.9164 - val_loss: 0.4654 - val_accuracy: 0.8958\n",
            "Epoch 30/500\n",
            "375/375 [==============================] - 7s 17ms/step - loss: 0.2354 - accuracy: 0.9184 - val_loss: 0.4410 - val_accuracy: 0.8928\n",
            "Epoch 31/500\n",
            "375/375 [==============================] - 6s 17ms/step - loss: 0.2380 - accuracy: 0.9184 - val_loss: 0.4754 - val_accuracy: 0.8928\n",
            "Epoch 32/500\n",
            "375/375 [==============================] - 6s 17ms/step - loss: 0.2368 - accuracy: 0.9180 - val_loss: 0.4558 - val_accuracy: 0.8923\n",
            "Epoch 33/500\n",
            "375/375 [==============================] - 6s 17ms/step - loss: 0.2348 - accuracy: 0.9193 - val_loss: 0.4916 - val_accuracy: 0.8935\n",
            "Epoch 34/500\n",
            "375/375 [==============================] - 7s 17ms/step - loss: 0.2327 - accuracy: 0.9194 - val_loss: 0.5086 - val_accuracy: 0.8845\n",
            "Epoch 35/500\n",
            "375/375 [==============================] - 6s 17ms/step - loss: 0.2298 - accuracy: 0.9198 - val_loss: 0.4711 - val_accuracy: 0.8938\n",
            "Epoch 36/500\n",
            "375/375 [==============================] - 6s 17ms/step - loss: 0.2267 - accuracy: 0.9216 - val_loss: 0.5360 - val_accuracy: 0.8879\n",
            "Epoch 37/500\n",
            "375/375 [==============================] - 6s 17ms/step - loss: 0.2268 - accuracy: 0.9225 - val_loss: 0.5207 - val_accuracy: 0.8948\n",
            "Epoch 38/500\n",
            "375/375 [==============================] - 6s 17ms/step - loss: 0.2279 - accuracy: 0.9235 - val_loss: 0.5563 - val_accuracy: 0.8910\n",
            "Epoch 39/500\n",
            "375/375 [==============================] - 6s 17ms/step - loss: 0.2241 - accuracy: 0.9234 - val_loss: 0.5429 - val_accuracy: 0.8913\n",
            "Epoch 40/500\n",
            "375/375 [==============================] - 6s 17ms/step - loss: 0.2224 - accuracy: 0.9219 - val_loss: 0.5352 - val_accuracy: 0.8886\n",
            "Epoch 41/500\n",
            "375/375 [==============================] - 6s 17ms/step - loss: 0.2209 - accuracy: 0.9253 - val_loss: 0.5815 - val_accuracy: 0.8885\n",
            "Epoch 42/500\n",
            "375/375 [==============================] - 6s 17ms/step - loss: 0.2176 - accuracy: 0.9237 - val_loss: 0.6291 - val_accuracy: 0.8826\n",
            "Epoch 43/500\n",
            "375/375 [==============================] - 7s 17ms/step - loss: 0.2211 - accuracy: 0.9260 - val_loss: 0.5754 - val_accuracy: 0.8924\n",
            "Epoch 44/500\n",
            "375/375 [==============================] - 7s 17ms/step - loss: 0.2149 - accuracy: 0.9262 - val_loss: 0.5552 - val_accuracy: 0.8938\n",
            "Epoch 45/500\n",
            "375/375 [==============================] - 6s 17ms/step - loss: 0.2156 - accuracy: 0.9256 - val_loss: 0.5820 - val_accuracy: 0.8889\n",
            "Epoch 46/500\n",
            "375/375 [==============================] - 6s 17ms/step - loss: 0.2144 - accuracy: 0.9275 - val_loss: 0.6494 - val_accuracy: 0.8938\n",
            "Epoch 47/500\n",
            "375/375 [==============================] - 6s 17ms/step - loss: 0.2086 - accuracy: 0.9287 - val_loss: 0.5985 - val_accuracy: 0.8937\n",
            "Epoch 48/500\n",
            "375/375 [==============================] - 6s 17ms/step - loss: 0.2138 - accuracy: 0.9281 - val_loss: 0.5678 - val_accuracy: 0.8923\n",
            "Epoch 49/500\n",
            "375/375 [==============================] - 6s 17ms/step - loss: 0.2111 - accuracy: 0.9291 - val_loss: 0.5839 - val_accuracy: 0.8961\n",
            "Epoch 50/500\n",
            "375/375 [==============================] - 6s 17ms/step - loss: 0.2109 - accuracy: 0.9287 - val_loss: 0.5741 - val_accuracy: 0.8933\n",
            "Epoch 51/500\n",
            "375/375 [==============================] - 6s 17ms/step - loss: 0.2144 - accuracy: 0.9284 - val_loss: 0.6108 - val_accuracy: 0.8970\n",
            "Epoch 52/500\n",
            "375/375 [==============================] - 6s 17ms/step - loss: 0.2075 - accuracy: 0.9298 - val_loss: 0.5515 - val_accuracy: 0.8931\n",
            "Epoch 53/500\n",
            "375/375 [==============================] - 6s 17ms/step - loss: 0.2075 - accuracy: 0.9296 - val_loss: 0.6607 - val_accuracy: 0.8913\n",
            "Epoch 54/500\n",
            "375/375 [==============================] - 6s 17ms/step - loss: 0.2049 - accuracy: 0.9315 - val_loss: 0.6754 - val_accuracy: 0.8937\n",
            "Epoch 55/500\n",
            "375/375 [==============================] - 6s 17ms/step - loss: 0.2026 - accuracy: 0.9310 - val_loss: 0.6350 - val_accuracy: 0.8964\n",
            "Epoch 56/500\n",
            "375/375 [==============================] - 6s 17ms/step - loss: 0.2049 - accuracy: 0.9311 - val_loss: 0.6711 - val_accuracy: 0.8921\n",
            "Epoch 57/500\n",
            "375/375 [==============================] - 6s 17ms/step - loss: 0.2033 - accuracy: 0.9326 - val_loss: 0.6240 - val_accuracy: 0.8991\n",
            "Epoch 58/500\n",
            "375/375 [==============================] - 6s 17ms/step - loss: 0.2007 - accuracy: 0.9327 - val_loss: 0.6385 - val_accuracy: 0.8960\n",
            "Epoch 59/500\n",
            "375/375 [==============================] - 6s 17ms/step - loss: 0.2021 - accuracy: 0.9326 - val_loss: 0.6585 - val_accuracy: 0.8942\n",
            "Epoch 60/500\n",
            "375/375 [==============================] - 6s 17ms/step - loss: 0.1970 - accuracy: 0.9327 - val_loss: 0.6261 - val_accuracy: 0.8930\n",
            "Epoch 61/500\n",
            "375/375 [==============================] - 6s 17ms/step - loss: 0.2005 - accuracy: 0.9332 - val_loss: 0.7401 - val_accuracy: 0.8919\n",
            "Epoch 62/500\n",
            "375/375 [==============================] - 6s 17ms/step - loss: 0.1990 - accuracy: 0.9342 - val_loss: 0.7690 - val_accuracy: 0.8942\n",
            "Epoch 63/500\n",
            "375/375 [==============================] - 6s 17ms/step - loss: 0.1907 - accuracy: 0.9362 - val_loss: 0.6229 - val_accuracy: 0.8974\n",
            "Epoch 64/500\n",
            "375/375 [==============================] - 6s 17ms/step - loss: 0.1996 - accuracy: 0.9339 - val_loss: 0.7050 - val_accuracy: 0.8938\n",
            "Epoch 65/500\n",
            "375/375 [==============================] - 6s 17ms/step - loss: 0.1975 - accuracy: 0.9352 - val_loss: 0.7520 - val_accuracy: 0.8949\n",
            "Epoch 66/500\n",
            "375/375 [==============================] - 6s 17ms/step - loss: 0.1959 - accuracy: 0.9365 - val_loss: 0.7603 - val_accuracy: 0.8867\n",
            "Epoch 67/500\n",
            "375/375 [==============================] - 6s 17ms/step - loss: 0.1895 - accuracy: 0.9367 - val_loss: 0.7506 - val_accuracy: 0.8940\n",
            "Epoch 68/500\n",
            "375/375 [==============================] - 6s 17ms/step - loss: 0.1978 - accuracy: 0.9365 - val_loss: 0.7531 - val_accuracy: 0.8913\n",
            "Epoch 69/500\n",
            "375/375 [==============================] - 6s 17ms/step - loss: 0.1946 - accuracy: 0.9363 - val_loss: 0.7568 - val_accuracy: 0.8974\n",
            "Epoch 70/500\n",
            "375/375 [==============================] - 6s 17ms/step - loss: 0.1912 - accuracy: 0.9369 - val_loss: 0.8048 - val_accuracy: 0.8950\n",
            "Epoch 71/500\n",
            "375/375 [==============================] - 7s 17ms/step - loss: 0.1873 - accuracy: 0.9373 - val_loss: 0.7339 - val_accuracy: 0.8919\n",
            "Epoch 72/500\n",
            "375/375 [==============================] - 7s 17ms/step - loss: 0.1868 - accuracy: 0.9365 - val_loss: 0.7588 - val_accuracy: 0.8982\n",
            "Epoch 73/500\n",
            "375/375 [==============================] - 6s 17ms/step - loss: 0.1848 - accuracy: 0.9387 - val_loss: 0.7496 - val_accuracy: 0.8975\n",
            "Epoch 74/500\n",
            "375/375 [==============================] - 6s 17ms/step - loss: 0.1840 - accuracy: 0.9396 - val_loss: 0.9066 - val_accuracy: 0.8839\n",
            "Epoch 75/500\n",
            "375/375 [==============================] - 6s 17ms/step - loss: 0.1902 - accuracy: 0.9377 - val_loss: 0.8146 - val_accuracy: 0.8973\n",
            "Epoch 76/500\n",
            "375/375 [==============================] - 7s 18ms/step - loss: 0.1831 - accuracy: 0.9387 - val_loss: 0.8060 - val_accuracy: 0.8909\n",
            "Epoch 77/500\n",
            "375/375 [==============================] - 7s 17ms/step - loss: 0.1831 - accuracy: 0.9395 - val_loss: 0.8612 - val_accuracy: 0.8862\n",
            "Epoch 78/500\n",
            "375/375 [==============================] - 7s 17ms/step - loss: 0.1814 - accuracy: 0.9395 - val_loss: 0.8205 - val_accuracy: 0.8892\n",
            "Epoch 79/500\n",
            "375/375 [==============================] - 6s 17ms/step - loss: 0.1884 - accuracy: 0.9404 - val_loss: 0.8943 - val_accuracy: 0.8974\n",
            "Epoch 80/500\n",
            "375/375 [==============================] - 6s 17ms/step - loss: 0.1895 - accuracy: 0.9403 - val_loss: 0.8539 - val_accuracy: 0.8923\n",
            "Epoch 81/500\n",
            "375/375 [==============================] - 6s 17ms/step - loss: 0.1923 - accuracy: 0.9404 - val_loss: 0.9675 - val_accuracy: 0.8880\n",
            "Epoch 82/500\n",
            "375/375 [==============================] - 6s 17ms/step - loss: 0.1823 - accuracy: 0.9405 - val_loss: 0.8888 - val_accuracy: 0.8955\n",
            "Epoch 83/500\n",
            "375/375 [==============================] - 6s 17ms/step - loss: 0.1861 - accuracy: 0.9394 - val_loss: 0.8387 - val_accuracy: 0.8953\n",
            "Epoch 84/500\n",
            "375/375 [==============================] - 6s 17ms/step - loss: 0.1796 - accuracy: 0.9428 - val_loss: 0.8643 - val_accuracy: 0.8972\n",
            "Epoch 85/500\n",
            "375/375 [==============================] - 6s 17ms/step - loss: 0.1880 - accuracy: 0.9430 - val_loss: 0.9020 - val_accuracy: 0.8928\n",
            "Epoch 86/500\n",
            "375/375 [==============================] - 7s 17ms/step - loss: 0.1843 - accuracy: 0.9408 - val_loss: 0.9324 - val_accuracy: 0.8988\n",
            "Epoch 87/500\n",
            "375/375 [==============================] - 7s 17ms/step - loss: 0.1733 - accuracy: 0.9422 - val_loss: 0.8493 - val_accuracy: 0.8937\n",
            "Epoch 88/500\n",
            "375/375 [==============================] - 7s 17ms/step - loss: 0.1786 - accuracy: 0.9425 - val_loss: 0.8600 - val_accuracy: 0.8977\n",
            "Epoch 89/500\n",
            "375/375 [==============================] - 6s 17ms/step - loss: 0.1817 - accuracy: 0.9436 - val_loss: 0.9461 - val_accuracy: 0.8870\n",
            "Epoch 90/500\n",
            "375/375 [==============================] - 6s 17ms/step - loss: 0.1884 - accuracy: 0.9417 - val_loss: 1.0204 - val_accuracy: 0.8867\n",
            "Epoch 91/500\n",
            "375/375 [==============================] - 6s 17ms/step - loss: 0.1719 - accuracy: 0.9444 - val_loss: 1.1217 - val_accuracy: 0.8846\n",
            "Epoch 92/500\n",
            "375/375 [==============================] - 7s 17ms/step - loss: 0.1744 - accuracy: 0.9445 - val_loss: 0.9442 - val_accuracy: 0.8927\n",
            "Epoch 93/500\n",
            "375/375 [==============================] - 6s 17ms/step - loss: 0.1843 - accuracy: 0.9436 - val_loss: 0.9050 - val_accuracy: 0.8954\n",
            "Epoch 94/500\n",
            "375/375 [==============================] - 6s 17ms/step - loss: 0.1759 - accuracy: 0.9448 - val_loss: 0.9254 - val_accuracy: 0.8880\n",
            "Epoch 95/500\n",
            "375/375 [==============================] - 6s 17ms/step - loss: 0.1761 - accuracy: 0.9448 - val_loss: 1.0248 - val_accuracy: 0.8933\n",
            "Epoch 96/500\n",
            "375/375 [==============================] - 6s 17ms/step - loss: 0.1763 - accuracy: 0.9437 - val_loss: 0.9419 - val_accuracy: 0.8952\n",
            "Epoch 97/500\n",
            "375/375 [==============================] - 6s 17ms/step - loss: 0.1727 - accuracy: 0.9447 - val_loss: 1.1273 - val_accuracy: 0.8923\n",
            "Epoch 98/500\n",
            "375/375 [==============================] - 6s 17ms/step - loss: 0.1741 - accuracy: 0.9461 - val_loss: 1.0499 - val_accuracy: 0.8938\n",
            "Epoch 99/500\n",
            "375/375 [==============================] - 6s 17ms/step - loss: 0.1811 - accuracy: 0.9444 - val_loss: 0.9994 - val_accuracy: 0.8958\n",
            "Epoch 100/500\n",
            "375/375 [==============================] - 6s 17ms/step - loss: 0.1747 - accuracy: 0.9453 - val_loss: 1.0037 - val_accuracy: 0.8935\n",
            "Epoch 101/500\n",
            "375/375 [==============================] - 6s 17ms/step - loss: 0.1788 - accuracy: 0.9461 - val_loss: 1.0156 - val_accuracy: 0.8926\n",
            "Epoch 102/500\n",
            "375/375 [==============================] - 6s 17ms/step - loss: 0.1682 - accuracy: 0.9446 - val_loss: 1.0517 - val_accuracy: 0.8956\n",
            "Epoch 103/500\n",
            "375/375 [==============================] - 6s 17ms/step - loss: 0.1790 - accuracy: 0.9467 - val_loss: 1.1187 - val_accuracy: 0.8836\n",
            "Epoch 104/500\n",
            "375/375 [==============================] - 6s 17ms/step - loss: 0.1711 - accuracy: 0.9449 - val_loss: 1.1460 - val_accuracy: 0.8909\n"
          ]
        }
      ]
    },
    {
      "cell_type": "code",
      "source": [
        "#đánh giá chất lượng của mô hình và vẽ lại\n",
        "score = model.evaluate(x_test,y_test,verbose=0)\n",
        "print('Sai số kiểm tra là: ',score[0])\n",
        "print('Độ chính xác kiểm tra là: ',score[1])\n",
        "#vẽ đồ thị\n",
        "plt.plot(history.history['accuracy'])\n",
        "plt.plot(history.history['val_accuracy'])\n",
        "plt.title('model accuracy')\n",
        "plt.ylabel('accuracy')\n",
        "plt.xlabel('epochs')\n",
        "plt.legend(['train','Validation'])\n",
        "plt.show()"
      ],
      "metadata": {
        "colab": {
          "base_uri": "https://localhost:8080/",
          "height": 330
        },
        "id": "vTUGmu-dnI0T",
        "outputId": "8ae878c5-1936-4920-ce3b-f42d4f8721c7"
      },
      "execution_count": null,
      "outputs": [
        {
          "output_type": "stream",
          "name": "stdout",
          "text": [
            "Sai số kiểm tra là:  1.2676732540130615\n",
            "Độ chính xác kiểm tra là:  0.8899999856948853\n"
          ]
        },
        {
          "output_type": "display_data",
          "data": {
            "text/plain": [
              "<Figure size 432x288 with 1 Axes>"
            ],
            "image/png": "[encoded data removed]"
          },
          "metadata": {
            "needs_background": "light"
          }
        }
      ]
    },
    {
      "cell_type": "code",
      "source": [
        ""
      ],
      "metadata": {
        "id": "-AVP_EYQ0sEb"
      },
      "execution_count": null,
      "outputs": []
    }
  ]
}